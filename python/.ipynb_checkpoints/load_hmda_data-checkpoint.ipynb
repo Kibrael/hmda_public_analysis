{
 "cells": [
  {
   "cell_type": "code",
   "execution_count": null,
   "metadata": {},
   "outputs": [],
   "source": [
    "#This workbook contains code used to load FFIEC and National Archives HMDA data\n",
    "#HMDA data has 3 files per year, the Transmittal Sheet (sometimes known as Institutions Record Data), \n",
    "#the Panel, and Loan Application Register.\n",
    "\n",
    "#The TS contains information about the institutions that submitted data and some metadata about their associated LAR\n",
    "#file.\n",
    "\n",
    "#The Panel contains information used to group financial institutions as well as identifiers that can link HMDA assets\n",
    "# to other datasets such as those provided by the National Information Center (NIC).\n",
    "\n",
    "#The Loan Application Register (LAR) file contains the loan records submitted by each institution.\n",
    "\n",
    "#National Archives (NARA) files have different formats than those published on the FFIEC website. The TS in NARA are \n",
    "# a different schema than the Institutions Records published by the FFIEC.\n",
    "#Data Notes:\n",
    "#FFIEC TS 2016 contains an extra tab on one line that must be removed before the data will load\n",
    "#Latin1 required instead of utf8 for several datasets\n",
    "\n"
   ]
  },
  {
   "cell_type": "code",
   "execution_count": 2,
   "metadata": {},
   "outputs": [],
   "source": [
    "from collections import OrderedDict\n",
    "import json\n",
    "from os import listdir\n",
    "from os.path import isfile, join\n",
    "import psycopg2\n"
   ]
  },
  {
   "cell_type": "code",
   "execution_count": 3,
   "metadata": {},
   "outputs": [],
   "source": [
    "with open(\"../../pg_pw.txt\", 'r') as pw_file:\n",
    "    pw = pw_file.readline()\n",
    "\n",
    "params = {\n",
    "    'dbname':'postgres',\n",
    "    'user':'postgres',\n",
    "    'password':pw,\n",
    "    'host':'localhost'}\n",
    "\n",
    "def connect(params=params):\n",
    "    \"\"\"Creates a connection to a local PG database.\"\"\"\n",
    "    #parameter format for local use\n",
    " \n",
    "    try:\n",
    "        conn = psycopg2.connect(**params)\n",
    "        print(\"Connected\")\n",
    "        return conn.cursor(), conn #returns connection and cursor\n",
    "    except psycopg2.Error as e: #if database connection results in an error print the following\n",
    "        print(\"I am unable to connect to the database: \", e)\n",
    "    "
   ]
  },
  {
   "cell_type": "code",
   "execution_count": 4,
   "metadata": {},
   "outputs": [],
   "source": [
    "\n",
    "#build lists of data files for loading into db\n",
    "ts_data_path = \"/HMDA_Data/ts/\"\n",
    "ts_files = [f for f in listdir(ts_data_path) if isfile(join(ts_data_path, f))]\n",
    "ts_files = [f for f in ts_files if f!=\".DS_Store\"]\n",
    "panel_data_path = \"/HMDA_Data/panel/\"\n",
    "panel_files = [f for f in listdir(panel_data_path) if isfile(join(panel_data_path, f))]\n",
    "panel_files = [f for f in panel_files if f!=\".DS_Store\"]\n",
    "lar_data_path = \"/HMDA_Data/lar/\"\n",
    "lar_files = [f for f in listdir(lar_data_path) if isfile(join(lar_data_path, f))]\n",
    "lar_files = [f for f in lar_files if f!=\".DS_Store\"]"
   ]
  },
  {
   "cell_type": "code",
   "execution_count": 25,
   "metadata": {},
   "outputs": [],
   "source": [
    "def load_lar_dat():\n",
    "    \"\"\"Loads National Archives fixed width DAT files of HMDA LAR data to Postgres\"\"\"\n",
    "    cur, pg_conn = connect()\n",
    "    for file in lar_files:\n",
    "        if file[-3:] == \"dat\":\n",
    "            table_name = \"lar_\"+file[8:12] + \"_ffiec\"\n",
    "            print(table_name)\n",
    "            with open(\"../sql/lar_2004_2013.sql\") as sql_file: #get sql script\n",
    "                sql = sql_file.read()\n",
    "            sql = sql.format(table=table_name, data_file=lar_data_path+file)\n",
    "            cur.execute(sql,) #execute SQL to database\n",
    "        else:\n",
    "            print(\"not a dat file\")\n",
    "    pg_conn.close()\n",
    "    \n",
    "\n",
    "def load_ts_dat():\n",
    "    \"\"\"Loads National Archives fixed width DAT files of HMDA TS data to Postgres\"\"\"\n",
    "    cur, pg_conn = connect()\n",
    "    for file in ts_files:\n",
    "        if file[-3:] == \"dat\":\n",
    "            table_name = \"ts_\"+file[7:11] + \"_ffiec\"\n",
    "            print(table_name)\n",
    "            with open(\"../sql/ts_2004_2013.sql\") as sql_file: #get sql script\n",
    "                sql = sql_file.read()\n",
    "            sql = sql.format(table=table_name, data_file=ts_data_path+file)\n",
    "            cur.execute(sql,) #execute SQL to database\n",
    "        else:\n",
    "            print(\"not a dat file\")\n",
    "    pg_conn.close()\n",
    "    \n",
    "def load_panel_dat():\n",
    "    \"\"\"Loads National Archives and FFIEC fixed width DAT files of HMDA Panel data to Postgres\"\"\"\n",
    "    cur, pg_conn = connect()\n",
    "    for file in panel_files:\n",
    "        if int(file[-8:-4]) < 2014:\n",
    "            table_name = \"panel_\"+ file[10:14] + \"_ffiec\"\n",
    "            print(table_name)\n",
    "            with open(\"../sql/panel_2004_2013.sql\") as sql_file: #get sql script\n",
    "                sql = sql_file.read()\n",
    "            sql = sql.format(table=table_name, data_file=panel_data_path+file)\n",
    "            cur.execute(sql,) #execute SQL to database\n",
    "        else:\n",
    "            print(\"not a dat file\")\n",
    "    pg_conn.close()\n",
    "\n",
    "def load_panel_latest():\n",
    "    \"\"\"Loads FFIEC TSV HMDA Panel files to Postgres\"\"\"\n",
    "    cur, pg_conn = connect()\n",
    "    for file in panel_files:\n",
    "        if file[-3:] == \"tsv\":\n",
    "            table_name = \"panel_\"+file[-8:-4] + \"_ffiec\"\n",
    "            print(table_name)\n",
    "            with open(\"../sql/panel_latest.sql\") as sql_file: #get sql script\n",
    "                sql = sql_file.read()\n",
    "            sql = sql.format(table=table_name, data_file=panel_data_path+file)\n",
    "            cur.execute(sql,) #execute SQL to database\n",
    "        else:\n",
    "            print(\"not a dat file\")\n",
    "    pg_conn.close()\n",
    "def load_lar_csv():\n",
    "    \"\"\"Loads FFIEC CSV HMDA LAR files to Postgres\"\"\"\n",
    "    cur, pg_conn = connect()\n",
    "    for file in lar_files:\n",
    "        if file[-3:] == \"csv\":\n",
    "            table_name = \"lar_\"+file[4:8] + \"_ffiec\"\n",
    "            print(table_name)\n",
    "            with open(\"../sql/lar_csv.sql\") as sql_file:\n",
    "                sql = sql_file.read()\n",
    "            sql = sql.format(table=table_name, data_file=lar_data_path + file)\n",
    "            cur.execute(sql,)\n",
    "        else:\n",
    "            print(\"not a csv file\")\n",
    "            \n",
    "def load_ts_csv():\n",
    "    \"\"\"Loads FFIEC TST HMDA TS files to Postgres\"\"\"\n",
    "    cur, pg_conn = connect()\n",
    "    for file in ts_files:\n",
    "        if file[-3:] == \"txt\":\n",
    "            table_name = \"ts_\"+file[3:7] + \"_ffiec\"\n",
    "            print(table_name)\n",
    "            with open(\"../sql/ts_csv.sql\") as sql_file:\n",
    "                sql = sql_file.read()\n",
    "            sql = sql.format(table=table_name, data_file=ts_data_path + file)\n",
    "            cur.execute(sql,)\n",
    "        else:\n",
    "            print(\"not a csv file\")"
   ]
  },
  {
   "cell_type": "code",
   "execution_count": null,
   "metadata": {},
   "outputs": [],
   "source": [
    "load_panel_latest()\n",
    "load_panel_dat()\n",
    "load_ts_dat()\n",
    "load_ts_csv()\n",
    "load_lar_csv()\n",
    "load_lar_dat()"
   ]
  },
  {
   "cell_type": "code",
   "execution_count": 21,
   "metadata": {},
   "outputs": [
    {
     "name": "stdout",
     "output_type": "stream",
     "text": [
      "Connected\n",
      "lar_2014.csv\n",
      "lar_2014_ffiec\n",
      "lar_2015.csv\n",
      "lar_2015_ffiec\n",
      "lar_2016.csv\n",
      "lar_2016_ffiec\n",
      "lar_ult_2004.dat\n",
      "not a csv file\n",
      "lar_ult_2005.DAT\n",
      "not a csv file\n",
      "lar_ult_2006.DAT\n",
      "not a csv file\n",
      "lar_ult_2007.dat\n",
      "not a csv file\n",
      "lar_ult_2008.dat\n",
      "not a csv file\n",
      "lar_ult_2009.dat\n",
      "not a csv file\n",
      "lar_ult_2010.dat\n",
      "not a csv file\n",
      "lar_ult_2011.dat\n",
      "not a csv file\n",
      "lar_ult_2012.dat\n",
      "not a csv file\n",
      "lar_ult_2013.dat\n",
      "not a csv file\n"
     ]
    }
   ],
   "source": []
  },
  {
   "cell_type": "code",
   "execution_count": null,
   "metadata": {},
   "outputs": [
    {
     "name": "stdout",
     "output_type": "stream",
     "text": [
      "Connected\n",
      "not a dat file\n",
      "not a dat file\n",
      "not a dat file\n",
      "lar_2004_ffiec\n"
     ]
    }
   ],
   "source": [
    "load_lar_dat()"
   ]
  },
  {
   "cell_type": "code",
   "execution_count": null,
   "metadata": {},
   "outputs": [],
   "source": []
  }
 ],
 "metadata": {
  "kernelspec": {
   "display_name": "Python 3",
   "language": "python",
   "name": "python3"
  },
  "language_info": {
   "codemirror_mode": {
    "name": "ipython",
    "version": 3
   },
   "file_extension": ".py",
   "mimetype": "text/x-python",
   "name": "python",
   "nbconvert_exporter": "python",
   "pygments_lexer": "ipython3",
   "version": "3.6.4"
  }
 },
 "nbformat": 4,
 "nbformat_minor": 2
}
