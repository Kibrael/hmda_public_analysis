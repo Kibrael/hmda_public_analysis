{
 "cells": [
  {
   "cell_type": "code",
   "execution_count": 1,
   "metadata": {},
   "outputs": [],
   "source": [
    "#This code creates indexes on LAR tables to expedite queries\n",
    "\n"
   ]
  },
  {
   "cell_type": "code",
   "execution_count": 2,
   "metadata": {},
   "outputs": [],
   "source": [
    "from collections import OrderedDict\n",
    "import json\n",
    "import os\n",
    "from os import listdir\n",
    "from os.path import isfile, join\n",
    "\n",
    "import psycopg2\n",
    "\n",
    "\n",
    "with open(\"../../pg_pw.txt\", 'r') as pw_file:\n",
    "    pw = pw_file.readline()\n"
   ]
  },
  {
   "cell_type": "code",
   "execution_count": 3,
   "metadata": {},
   "outputs": [],
   "source": [
    "\n",
    "params = {\n",
    "    'dbname':'postgres',\n",
    "    'user':'postgres',\n",
    "    'password':pw,\n",
    "    'host':'localhost'}\n",
    "\n",
    "def connect(params=params):\n",
    "    \"\"\"Creates a connection to a local PG database.\"\"\"\n",
    "    #parameter format for local use\n",
    "\n",
    "    try:\n",
    "        conn = psycopg2.connect(**params)\n",
    "    except psycopg2.Error as e: #if database connection results in an error print the following\n",
    "        print(\"I am unable to connect to the database: \", e)\n",
    "    return conn.cursor(), conn #returns connection and cursor\n",
    "\n",
    "def create_index(table, column, index_name=\"\"):\n",
    "    \"\"\"Creates an index on the specified table and column\"\"\"\n",
    "    sql = \"\"\"CREATE INDEX {index} ON {table} ({column}); COMMIT;\"\"\".format(index=index_name, table=table, column=column)\n",
    "    cur, conn = connect()\n",
    "    cur.execute(sql,)\n",
    "    conn.close()\n",
    "    \n",
    "def create_multi_index(table, columns, index_name=\"\"):\n",
    "    \"\"\"Creates and index on the specified table and columns. Columns argument is a list\"\"\"\n",
    "    cols = \", \".join(columns)\n",
    "    sql = \"\"\"CREATE INDEX {index} ON {table} ({columns}); COMMIT;\"\"\".format(index=index_name, table=table, columns=cols)\n",
    "    cur, conn = connect()\n",
    "    cur.execute(sql,)\n",
    "    conn.close()"
   ]
  },
  {
   "cell_type": "code",
   "execution_count": 7,
   "metadata": {},
   "outputs": [
    {
     "name": "stdout",
     "output_type": "stream",
     "text": [
      "lar_2004_ffiec\n",
      "lar_2005_ffiec\n",
      "lar_2006_ffiec\n",
      "lar_2007_ffiec\n",
      "lar_2008_ffiec\n",
      "lar_2009_ffiec\n",
      "lar_2010_ffiec\n",
      "lar_2011_ffiec\n",
      "lar_2012_ffiec\n",
      "lar_2013_ffiec\n",
      "lar_2014_ffiec\n",
      "lar_2015_ffiec\n",
      "lar_2016_ffiec\n"
     ]
    }
   ],
   "source": [
    "years = list(range(2004,2017))\n",
    "years = [str(x) for x in years]\n",
    "single_index_fields = [\"action\", \"app_sex\", \"co_app_sex\", \"income\", \"purchaser\", \"property_type\",\n",
    "                       \"amount\"\n",
    "                      ,\"preapproval\", \"app_eth\", \"co_eth\", \"hoepa\", \"lien\", \"rate_spread\"]\n",
    "for year in years:\n",
    "    table = \"lar_\" + year + \"_ffiec\"\n",
    "    print(table)\n",
    "   \n",
    "    for idx in single_index_fields:\n",
    "        create_index(table, idx)\n",
    "    #create_index(table, \"loan_amount\")\n",
    "    create_multi_index(table, [\"loan_type\", \"property_type\", \"purpose\", \"action\", \"occupancy\", \"lien\"])\n",
    "    create_multi_index(table, [\"loan_type\", \"property_type\", \"purpose\", \"lien\"])\n",
    "    create_multi_index(table, [\"income\", \"amount\"])\n",
    "    create_multi_index(table, [\"race_1\", \"race_2\", \"race_3\", \"race_4\", \"race_5\", \n",
    "                      \"co_race_1\", \"co_race_2\", \"co_race_3\", \"co_race_4\", \"co_race_5\"])\n",
    "    create_multi_index(table, [\"app_eth\", \"co_eth\"])\n"
   ]
  },
  {
   "cell_type": "code",
   "execution_count": null,
   "metadata": {},
   "outputs": [],
   "source": []
  }
 ],
 "metadata": {
  "kernelspec": {
   "display_name": "Python 3",
   "language": "python",
   "name": "python3"
  },
  "language_info": {
   "codemirror_mode": {
    "name": "ipython",
    "version": 3
   },
   "file_extension": ".py",
   "mimetype": "text/x-python",
   "name": "python",
   "nbconvert_exporter": "python",
   "pygments_lexer": "ipython3",
   "version": "3.6.4"
  }
 },
 "nbformat": 4,
 "nbformat_minor": 2
}
